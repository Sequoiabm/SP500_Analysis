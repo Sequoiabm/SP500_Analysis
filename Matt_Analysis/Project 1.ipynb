{
 "cells": [
  {
   "cell_type": "code",
   "execution_count": 3,
   "id": "5a4b4884",
   "metadata": {},
   "outputs": [],
   "source": [
    "#Import the necessary dependencies/libraries\n",
    "import csv\n",
    "\n",
    "import pandas as pd\n",
    "import matplotlib.pyplot as plt\n",
    "import scipy.stats as st\n",
    "import numpy as np"
   ]
  },
  {
   "cell_type": "code",
   "execution_count": 4,
   "id": "f8a6f301",
   "metadata": {},
   "outputs": [
    {
     "data": {
      "text/html": [
       "<div>\n",
       "<style scoped>\n",
       "    .dataframe tbody tr th:only-of-type {\n",
       "        vertical-align: middle;\n",
       "    }\n",
       "\n",
       "    .dataframe tbody tr th {\n",
       "        vertical-align: top;\n",
       "    }\n",
       "\n",
       "    .dataframe thead th {\n",
       "        text-align: right;\n",
       "    }\n",
       "</style>\n",
       "<table border=\"1\" class=\"dataframe\">\n",
       "  <thead>\n",
       "    <tr style=\"text-align: right;\">\n",
       "      <th></th>\n",
       "      <th>Date</th>\n",
       "      <th>Open</th>\n",
       "      <th>High</th>\n",
       "      <th>Low</th>\n",
       "      <th>Close</th>\n",
       "      <th>Adj Close</th>\n",
       "      <th>Volume</th>\n",
       "    </tr>\n",
       "  </thead>\n",
       "  <tbody>\n",
       "    <tr>\n",
       "      <th>0</th>\n",
       "      <td>2001-01-01</td>\n",
       "      <td>132.000</td>\n",
       "      <td>136.000000</td>\n",
       "      <td>127.562500</td>\n",
       "      <td>129.187500</td>\n",
       "      <td>84.610970</td>\n",
       "      <td>50299500</td>\n",
       "    </tr>\n",
       "    <tr>\n",
       "      <th>1</th>\n",
       "      <td>2001-01-08</td>\n",
       "      <td>129.875</td>\n",
       "      <td>133.718750</td>\n",
       "      <td>127.687500</td>\n",
       "      <td>132.000000</td>\n",
       "      <td>86.453018</td>\n",
       "      <td>35562900</td>\n",
       "    </tr>\n",
       "    <tr>\n",
       "      <th>2</th>\n",
       "      <td>2001-01-15</td>\n",
       "      <td>132.000</td>\n",
       "      <td>136.187500</td>\n",
       "      <td>131.515625</td>\n",
       "      <td>134.015625</td>\n",
       "      <td>87.773178</td>\n",
       "      <td>32283100</td>\n",
       "    </tr>\n",
       "    <tr>\n",
       "      <th>3</th>\n",
       "      <td>2001-01-22</td>\n",
       "      <td>134.250</td>\n",
       "      <td>137.312500</td>\n",
       "      <td>133.562500</td>\n",
       "      <td>135.875000</td>\n",
       "      <td>88.990990</td>\n",
       "      <td>39669000</td>\n",
       "    </tr>\n",
       "    <tr>\n",
       "      <th>4</th>\n",
       "      <td>2001-01-29</td>\n",
       "      <td>135.500</td>\n",
       "      <td>138.699997</td>\n",
       "      <td>134.750000</td>\n",
       "      <td>134.800003</td>\n",
       "      <td>88.286888</td>\n",
       "      <td>39997600</td>\n",
       "    </tr>\n",
       "  </tbody>\n",
       "</table>\n",
       "</div>"
      ],
      "text/plain": [
       "         Date     Open        High         Low       Close  Adj Close  \\\n",
       "0  2001-01-01  132.000  136.000000  127.562500  129.187500  84.610970   \n",
       "1  2001-01-08  129.875  133.718750  127.687500  132.000000  86.453018   \n",
       "2  2001-01-15  132.000  136.187500  131.515625  134.015625  87.773178   \n",
       "3  2001-01-22  134.250  137.312500  133.562500  135.875000  88.990990   \n",
       "4  2001-01-29  135.500  138.699997  134.750000  134.800003  88.286888   \n",
       "\n",
       "     Volume  \n",
       "0  50299500  \n",
       "1  35562900  \n",
       "2  32283100  \n",
       "3  39669000  \n",
       "4  39997600  "
      ]
     },
     "execution_count": 4,
     "metadata": {},
     "output_type": "execute_result"
    }
   ],
   "source": [
    "#Read the RAW data from SPY.csv\n",
    "spy_data_df = \"data/SPY.csv\"\n",
    "\n",
    "with open('data/SPY.csv') as csv_file:\n",
    "    csv_reader = csv.DictReader(csv_file)    \n",
    "#     row = next(csv_reader)\n",
    "#     print(row)\n",
    "\n",
    "spy_data_df = pd.read_csv('./data/SPY.csv')\n",
    "spy_data_df.head()"
   ]
  },
  {
   "cell_type": "code",
   "execution_count": 5,
   "id": "ab145d46",
   "metadata": {},
   "outputs": [
    {
     "data": {
      "text/html": [
       "<div>\n",
       "<style scoped>\n",
       "    .dataframe tbody tr th:only-of-type {\n",
       "        vertical-align: middle;\n",
       "    }\n",
       "\n",
       "    .dataframe tbody tr th {\n",
       "        vertical-align: top;\n",
       "    }\n",
       "\n",
       "    .dataframe thead th {\n",
       "        text-align: right;\n",
       "    }\n",
       "</style>\n",
       "<table border=\"1\" class=\"dataframe\">\n",
       "  <thead>\n",
       "    <tr style=\"text-align: right;\">\n",
       "      <th></th>\n",
       "      <th>Open</th>\n",
       "      <th>High</th>\n",
       "      <th>Low</th>\n",
       "      <th>Close</th>\n",
       "      <th>Adj Close</th>\n",
       "      <th>Volume</th>\n",
       "    </tr>\n",
       "    <tr>\n",
       "      <th>Date</th>\n",
       "      <th></th>\n",
       "      <th></th>\n",
       "      <th></th>\n",
       "      <th></th>\n",
       "      <th></th>\n",
       "      <th></th>\n",
       "    </tr>\n",
       "  </thead>\n",
       "  <tbody>\n",
       "    <tr>\n",
       "      <th>2001-01-01</th>\n",
       "      <td>132.000</td>\n",
       "      <td>136.000000</td>\n",
       "      <td>127.562500</td>\n",
       "      <td>129.187500</td>\n",
       "      <td>84.610970</td>\n",
       "      <td>50299500</td>\n",
       "    </tr>\n",
       "    <tr>\n",
       "      <th>2001-01-08</th>\n",
       "      <td>129.875</td>\n",
       "      <td>133.718750</td>\n",
       "      <td>127.687500</td>\n",
       "      <td>132.000000</td>\n",
       "      <td>86.453018</td>\n",
       "      <td>35562900</td>\n",
       "    </tr>\n",
       "    <tr>\n",
       "      <th>2001-01-15</th>\n",
       "      <td>132.000</td>\n",
       "      <td>136.187500</td>\n",
       "      <td>131.515625</td>\n",
       "      <td>134.015625</td>\n",
       "      <td>87.773178</td>\n",
       "      <td>32283100</td>\n",
       "    </tr>\n",
       "    <tr>\n",
       "      <th>2001-01-22</th>\n",
       "      <td>134.250</td>\n",
       "      <td>137.312500</td>\n",
       "      <td>133.562500</td>\n",
       "      <td>135.875000</td>\n",
       "      <td>88.990990</td>\n",
       "      <td>39669000</td>\n",
       "    </tr>\n",
       "    <tr>\n",
       "      <th>2001-01-29</th>\n",
       "      <td>135.500</td>\n",
       "      <td>138.699997</td>\n",
       "      <td>134.750000</td>\n",
       "      <td>134.800003</td>\n",
       "      <td>88.286888</td>\n",
       "      <td>39997600</td>\n",
       "    </tr>\n",
       "  </tbody>\n",
       "</table>\n",
       "</div>"
      ],
      "text/plain": [
       "               Open        High         Low       Close  Adj Close    Volume\n",
       "Date                                                                        \n",
       "2001-01-01  132.000  136.000000  127.562500  129.187500  84.610970  50299500\n",
       "2001-01-08  129.875  133.718750  127.687500  132.000000  86.453018  35562900\n",
       "2001-01-15  132.000  136.187500  131.515625  134.015625  87.773178  32283100\n",
       "2001-01-22  134.250  137.312500  133.562500  135.875000  88.990990  39669000\n",
       "2001-01-29  135.500  138.699997  134.750000  134.800003  88.286888  39997600"
      ]
     },
     "execution_count": 5,
     "metadata": {},
     "output_type": "execute_result"
    }
   ],
   "source": [
    "spy_data_df = pd.read_csv('./data/SPY.csv', index_col = 0)\n",
    "spy_data_df.head()"
   ]
  },
  {
   "cell_type": "code",
   "execution_count": 27,
   "id": "a4f92680",
   "metadata": {},
   "outputs": [
    {
     "data": {
      "text/plain": [
       "Date         datetime64[ns]\n",
       "Open                float64\n",
       "High                float64\n",
       "Low                 float64\n",
       "Close               float64\n",
       "Adj Close           float64\n",
       "Volume                int64\n",
       "dtype: object"
      ]
     },
     "execution_count": 27,
     "metadata": {},
     "output_type": "execute_result"
    }
   ],
   "source": [
    "df.Date = pd.to_datetime(df.Date)\n",
    "df.dtypes"
   ]
  },
  {
   "cell_type": "code",
   "execution_count": 28,
   "id": "be5726ba",
   "metadata": {},
   "outputs": [],
   "source": [
    "df = pd.read_csv('./data/SPY.csv')\n"
   ]
  },
  {
   "cell_type": "code",
   "execution_count": 7,
   "id": "34e59dab",
   "metadata": {},
   "outputs": [
    {
     "name": "stdout",
     "output_type": "stream",
     "text": [
      "What year do you want to start?2001\n"
     ]
    },
    {
     "data": {
      "text/plain": [
       "Timestamp('2001-01-01 00:00:00')"
      ]
     },
     "execution_count": 7,
     "metadata": {},
     "output_type": "execute_result"
    }
   ],
   "source": [
    "start_year = input('What year do you want to start?')\n",
    "x = str(start_year) + '-01-01'\n",
    "start_date = pd.to_datetime(x)\n",
    "start_date"
   ]
  },
  {
   "cell_type": "code",
   "execution_count": 14,
   "id": "8253e27b",
   "metadata": {},
   "outputs": [
    {
     "name": "stdout",
     "output_type": "stream",
     "text": [
      "What year do you want to end?2023\n"
     ]
    },
    {
     "data": {
      "text/plain": [
       "Timestamp('2023-12-31 00:00:00')"
      ]
     },
     "execution_count": 14,
     "metadata": {},
     "output_type": "execute_result"
    }
   ],
   "source": [
    "end_year = input('What year do you want to end?')\n",
    "x = str(end_year) + '-12-31'\n",
    "end_date = pd.to_datetime(x)\n",
    "end_date"
   ]
  },
  {
   "cell_type": "code",
   "execution_count": 30,
   "id": "530cd624",
   "metadata": {},
   "outputs": [
    {
     "data": {
      "image/png": "[encoded data removed]",
      "text/plain": [
       "<Figure size 1200x800 with 2 Axes>"
      ]
     },
     "metadata": {},
     "output_type": "display_data"
    }
   ],
   "source": [
    "df['Date'] = pd.to_datetime(df['Date']) \n",
    "new_df = (df['Date']>= start_date) & (df['Date']<= end_date)\n",
    "df1 = df.loc[new_df]\n",
    "stock_data = df1.set_index('Date')\n",
    "top_plt = plt.subplot2grid((6,4), (0, 0), rowspan=3, colspan=4)\n",
    "top_plt.plot(stock_data.index, spy_data[\"Close\"])\n",
    "\n",
    "title_str ='Historical SPY Stock Prices. ['+ str(start_date) + \" to \" + str(end_date) + ']'\n",
    "plt.title(title_str)\n",
    "bottom_plt = plt.subplot2grid((5,4), (3,0), rowspan=1, colspan=4)\n",
    "bottom_plt.bar(stock_data.index, stock_data['Volume'])\n",
    "plt.title('\\nSPY Trading Volume', y=-0.60)\n",
    "plt.gcf().set_size_inches(12,8)"
   ]
  },
  {
   "cell_type": "code",
   "execution_count": null,
   "id": "5debffa8",
   "metadata": {},
   "outputs": [],
   "source": []
  }
 ],
 "metadata": {
  "kernelspec": {
   "display_name": "Python 3 (ipykernel)",
   "language": "python",
   "name": "python3"
  },
  "language_info": {
   "codemirror_mode": {
    "name": "ipython",
    "version": 3
   },
   "file_extension": ".py",
   "mimetype": "text/x-python",
   "name": "python",
   "nbconvert_exporter": "python",
   "pygments_lexer": "ipython3",
   "version": "3.11.4"
  }
 },
 "nbformat": 4,
 "nbformat_minor": 5
}
